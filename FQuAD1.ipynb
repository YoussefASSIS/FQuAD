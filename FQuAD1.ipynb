{
 "cells": [
  {
   "cell_type": "code",
   "execution_count": 1,
   "metadata": {},
   "outputs": [],
   "source": [
    "import json\n",
    "from pandas import json_normalize\n",
    "import pandas as pd\n",
    "import numpy as np"
   ]
  },
  {
   "cell_type": "code", 
   "execution_count": 2,
   "metadata": {},
   "outputs": [],
   "source": [
    "def formatting_fquad(dataset_file, display=False):\n",
    "    with open(dataset_file, encoding='utf-8') as f:\n",
    "        raw_data = json.load(f)\n",
    "        raw_data = raw_data['data']\n",
    "        raw_data = json_normalize(raw_data)['paragraphs']\n",
    "        context = []\n",
    "        question = []\n",
    "        answer_start = []\n",
    "        text = []\n",
    "        for i in range(len(raw_data)):\n",
    "            for j in range(len(raw_data[i])): \n",
    "                for k in range(len(raw_data[i][j]['qas'])):\n",
    "                    if (len(raw_data[i][j]['qas'][k]['answers']) != 0):\n",
    "                        question.append(raw_data[i][j]['qas'][k]['question'])\n",
    "                        answer_start.append(raw_data[i][j]['qas'][k]['answers'][0]['answer_start'])\n",
    "                        text.append(raw_data[i][j]['qas'][k]['answers'][0]['text'])\n",
    "                        context.append(raw_data[i][j]['context'])\n",
    "                    else:\n",
    "                        continue\n",
    "        data = pd.DataFrame({\"context\":context, \"question\": question, \"answer_start\": answer_start, \"text\": text})\n",
    "        if display is True:\n",
    "            print(data.shape)\n",
    "        return data"
   ]
  },
  {
   "cell_type": "code",
   "execution_count": 3,
   "metadata": {},
   "outputs": [
    {
     "name": "stdout",
     "output_type": "stream",
     "text": [
      "(2450, 4)\n"
     ]
    },
    {
     "data": {
      "text/html": [
       "<div>\n",
       "<style scoped>\n",
       "    .dataframe tbody tr th:only-of-type {\n",
       "        vertical-align: middle;\n",
       "    }\n",
       "\n",
       "    .dataframe tbody tr th {\n",
       "        vertical-align: top;\n",
       "    }\n",
       "\n",
       "    .dataframe thead th {\n",
       "        text-align: right;\n",
       "    }\n",
       "</style>\n",
       "<table border=\"1\" class=\"dataframe\">\n",
       "  <thead>\n",
       "    <tr style=\"text-align: right;\">\n",
       "      <th></th>\n",
       "      <th>context</th>\n",
       "      <th>question</th>\n",
       "      <th>answer_start</th>\n",
       "      <th>text</th>\n",
       "    </tr>\n",
       "  </thead>\n",
       "  <tbody>\n",
       "    <tr>\n",
       "      <th>0</th>\n",
       "      <td>L'Andrea Moda S921, engagée dans le cadre du c...</td>\n",
       "      <td>A quelle écurie appartient l'Andrea Moda S921 ?</td>\n",
       "      <td>145</td>\n",
       "      <td>Andrea Moda Formula</td>\n",
       "    </tr>\n",
       "    <tr>\n",
       "      <th>1</th>\n",
       "      <td>L'Andrea Moda S921, engagée dans le cadre du c...</td>\n",
       "      <td>A quels deux pilotes étaient initialement dédi...</td>\n",
       "      <td>209</td>\n",
       "      <td>Alex Caffi et Enrico Bertaggia</td>\n",
       "    </tr>\n",
       "    <tr>\n",
       "      <th>2</th>\n",
       "      <td>L'Andrea Moda S921, engagée dans le cadre du c...</td>\n",
       "      <td>Quelle est la cause du licenciement des pilote...</td>\n",
       "      <td>257</td>\n",
       "      <td>leurs déclarations peu flatteuses à l'égard de...</td>\n",
       "    </tr>\n",
       "  </tbody>\n",
       "</table>\n",
       "</div>"
      ],
      "text/plain": [
       "                                             context  \\\n",
       "0  L'Andrea Moda S921, engagée dans le cadre du c...   \n",
       "1  L'Andrea Moda S921, engagée dans le cadre du c...   \n",
       "2  L'Andrea Moda S921, engagée dans le cadre du c...   \n",
       "\n",
       "                                            question  answer_start  \\\n",
       "0    A quelle écurie appartient l'Andrea Moda S921 ?           145   \n",
       "1  A quels deux pilotes étaient initialement dédi...           209   \n",
       "2  Quelle est la cause du licenciement des pilote...           257   \n",
       "\n",
       "                                                text  \n",
       "0                                Andrea Moda Formula  \n",
       "1                     Alex Caffi et Enrico Bertaggia  \n",
       "2  leurs déclarations peu flatteuses à l'égard de...  "
      ]
     },
     "execution_count": 3,
     "metadata": {},
     "output_type": "execute_result"
    }
   ],
   "source": [
    "train_data = formatting_fquad('train.json')\n",
    "train_data = train_data[train_data['context'].apply(lambda x: len(x)<500)].reset_index(drop=True)\n",
    "print(train_data.shape)\n",
    "train_data.head(3)"
   ]
  },
  {
   "cell_type": "code",
   "execution_count": 4,
   "metadata": {},
   "outputs": [
    {
     "name": "stdout",
     "output_type": "stream",
     "text": [
      "(3188, 4)\n"
     ]
    },
    {
     "data": {
      "text/html": [
       "<div>\n",
       "<style scoped>\n",
       "    .dataframe tbody tr th:only-of-type {\n",
       "        vertical-align: middle;\n",
       "    }\n",
       "\n",
       "    .dataframe tbody tr th {\n",
       "        vertical-align: top;\n",
       "    }\n",
       "\n",
       "    .dataframe thead th {\n",
       "        text-align: right;\n",
       "    }\n",
       "</style>\n",
       "<table border=\"1\" class=\"dataframe\">\n",
       "  <thead>\n",
       "    <tr style=\"text-align: right;\">\n",
       "      <th></th>\n",
       "      <th>context</th>\n",
       "      <th>question</th>\n",
       "      <th>answer_start</th>\n",
       "      <th>text</th>\n",
       "    </tr>\n",
       "  </thead>\n",
       "  <tbody>\n",
       "    <tr>\n",
       "      <th>0</th>\n",
       "      <td>Les deux tableaux sont certes décrits par des ...</td>\n",
       "      <td>Que concerne principalement les documents ?</td>\n",
       "      <td>161</td>\n",
       "      <td>La Vierge aux rochers</td>\n",
       "    </tr>\n",
       "    <tr>\n",
       "      <th>1</th>\n",
       "      <td>Les deux tableaux sont certes décrits par des ...</td>\n",
       "      <td>Par quoi sont décrit les deux tableaux ?</td>\n",
       "      <td>46</td>\n",
       "      <td>documents contemporains</td>\n",
       "    </tr>\n",
       "    <tr>\n",
       "      <th>2</th>\n",
       "      <td>Les deux tableaux sont certes décrits par des ...</td>\n",
       "      <td>Quels types d'objets sont les deux tableaux au...</td>\n",
       "      <td>204</td>\n",
       "      <td>objets de spéculations</td>\n",
       "    </tr>\n",
       "  </tbody>\n",
       "</table>\n",
       "</div>"
      ],
      "text/plain": [
       "                                             context  \\\n",
       "0  Les deux tableaux sont certes décrits par des ...   \n",
       "1  Les deux tableaux sont certes décrits par des ...   \n",
       "2  Les deux tableaux sont certes décrits par des ...   \n",
       "\n",
       "                                            question  answer_start  \\\n",
       "0        Que concerne principalement les documents ?           161   \n",
       "1           Par quoi sont décrit les deux tableaux ?            46   \n",
       "2  Quels types d'objets sont les deux tableaux au...           204   \n",
       "\n",
       "                      text  \n",
       "0    La Vierge aux rochers  \n",
       "1  documents contemporains  \n",
       "2   objets de spéculations  "
      ]
     },
     "execution_count": 4,
     "metadata": {},
     "output_type": "execute_result"
    }
   ],
   "source": [
    "valid_data = formatting_fquad('valid.json')\n",
    "valid_data = valid_data.reset_index(drop=True)\n",
    "print(valid_data.shape)\n",
    "valid_data.head(3)"
   ]
  },
  {
   "cell_type": "code",
   "execution_count": 5,
   "metadata": {},
   "outputs": [
    {
     "name": "stdout",
     "output_type": "stream",
     "text": [
      "2 16\n",
      "2 82\n"
     ]
    }
   ],
   "source": [
    "for j,i in enumerate(train_data['context'][1]):\n",
    "    if i.startswith('2'):\n",
    "        print (i,j)"
   ]
  }
 ],
 "metadata": {
  "kernelspec": {
   "display_name": "Python 3",
   "language": "python",
   "name": "python3"
  },
  "language_info": {
   "codemirror_mode": {
    "name": "ipython",
    "version": 3
   },
   "file_extension": ".py",
   "mimetype": "text/x-python",
   "name": "python",
   "nbconvert_exporter": "python",
   "pygments_lexer": "ipython3",
   "version": "3.7.3"
  }
 },
 "nbformat": 4,
 "nbformat_minor": 4
}
