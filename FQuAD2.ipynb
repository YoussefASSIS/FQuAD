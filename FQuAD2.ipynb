{
 "cells": [
  {
   "cell_type": "code",
   "execution_count": null,
   "metadata": {},
   "outputs": [],
   "source": [
    "import jmespath\n",
    "import pandas as pd"
   ]
  },
  {
   "cell_type": "code",
   "execution_count": null,
   "metadata": {},
   "outputs": [],
   "source": [
    "# Training data\n",
    "df = pd.read_json('train.json')\n",
    "train = list(df['data'].values)\n",
    "\n",
    "# Validation data\n",
    "df = pd.read_json('valid.json')\n",
    "valid = list(df['data'].values)"
   ]
  },
  {
   "cell_type": "markdown",
   "metadata": {},
   "source": [
    "# Training data"
   ]
  },
  {
   "cell_type": "code",
   "execution_count": null,
   "metadata": {},
   "outputs": [],
   "source": [
    "# Training data\n",
    "questions = jmespath.compile('[].paragraphs[].qas[].question').search(train)\n",
    "print(len(questions))\n",
    "answers = jmespath.compile('[].paragraphs[].qas[].answers[].text').search(train)\n",
    "print(len(answers))\n",
    "contexts = jmespath.compile('[].paragraphs[].context').search(train)\n",
    "print(len(contexts))\n",
    "# contexts = contexts * len(questions)\n",
    "# content = zip(*[questions,text,contexts])\n",
    "# df = pd.DataFrame(content,columns=['questions','text','contexts'])\n",
    "# print(df.questions.values)"
   ]
  },
  {
   "cell_type": "markdown",
   "metadata": {},
   "source": [
    "# Validation data"
   ]
  },
  {
   "cell_type": "code",
   "execution_count": null,
   "metadata": {},
   "outputs": [],
   "source": [
    "# Validation data\n",
    "\n",
    "questions = jmespath.compile('[].paragraphs[].qas[].question').search(valid)\n",
    "print(len(questions))\n",
    "answers = jmespath.compile('[].paragraphs[].qas[].answers[].text').search(valid)\n",
    "print(len(answers))\n",
    "contexts = jmespath.compile('[].paragraphs[].context').search(valid)\n",
    "print(len(contexts))\n",
    "# contexts = contexts * len(questions)\n",
    "# contents = zip(*[questions,text,contexts])\n",
    "# df = pd.DataFrame(contents,columns=['questions','text','contexts'])\n",
    "# print(df.questions.values)\n"
   ]
  }
 ],
 "metadata": {
  "kernelspec": {
   "display_name": "Python 3",
   "language": "python",
   "name": "python3"
  },
  "language_info": {
   "codemirror_mode": {
    "name": "ipython",
    "version": 3
   },
   "file_extension": ".py",
   "mimetype": "text/x-python",
   "name": "python",
   "nbconvert_exporter": "python",
   "pygments_lexer": "ipython3",
   "version": "3.7.3"
  }
 },
 "nbformat": 4,
 "nbformat_minor": 4
}
